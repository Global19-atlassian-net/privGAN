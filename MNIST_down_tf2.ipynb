{
 "cells": [
  {
   "cell_type": "markdown",
   "metadata": {},
   "source": [
    "## Overview\n",
    "Notebook illustrating performance of a CNN classifier on MNIST dataset compared against generated data by simple GAN(simpGAN) and privGan"
   ]
  },
  {
   "cell_type": "code",
   "execution_count": 1,
   "metadata": {},
   "outputs": [
    {
     "name": "stdout",
     "output_type": "stream",
     "text": [
      "2.3.0\n"
     ]
    }
   ],
   "source": [
    "# Copyright (c) Microsoft Corporation. All rights reserved. \n",
    "# Licensed under the MIT License.\n",
    "\n",
    "import os\n",
    "import numpy as np\n",
    "import pandas as pd\n",
    "import pandas as pd\n",
    "from tqdm import tqdm\n",
    "import matplotlib.pyplot as plt\n",
    "import tensorflow as tf\n",
    "from tensorflow.keras import Input\n",
    "from tensorflow.keras import Model, Sequential\n",
    "from tensorflow.keras.layers import Reshape, Dense, Dropout, Flatten, LeakyReLU, Conv2D, MaxPooling2D\n",
    "from tensorflow.keras.optimizers import Adam\n",
    "from privacygan import privacy_gan as pg\n",
    "from privacygan.mnist import mnist_gan\n",
    "from classifier.cnn_classifier import CNNClassifier\n",
    "import warnings\n",
    "\n",
    "print(tf.__version__)\n",
    "\n",
    "#https://github.com/keras-team/keras/wiki/Keras-2.0-release-notes\n",
    "#https://stackoverflow.com/questions/60289143/migrating-code-to-tensorflow-2-0-gives-invalid-argument-error-default-maxpoolin\n",
    "tf.keras.backend.set_image_data_format(\"channels_last\")"
   ]
  },
  {
   "cell_type": "markdown",
   "metadata": {},
   "source": [
    "## Retrieve train and test data from the MNIST dataset"
   ]
  },
  {
   "cell_type": "code",
   "execution_count": 2,
   "metadata": {},
   "outputs": [
    {
     "name": "stdout",
     "output_type": "stream",
     "text": [
      "(60000, 784)\n",
      "(10000, 784)\n"
     ]
    }
   ],
   "source": [
    "# Load MNIST data\n",
    "(X_train, y_train), (X_test, y_test) = tf.keras.datasets.mnist.load_data()\n",
    "X_train = (X_train.astype(np.float32) - 127.5)/127.5\n",
    "X_test = (X_test.astype(np.float32) - 127.5)/127.5\n",
    "X_train = X_train.reshape(X_train.shape[0], X_train.shape[1]*X_train.shape[2])\n",
    "X_test = X_test.reshape(X_test.shape[0], X_test.shape[1]*X_test.shape[2])\n",
    "print(X_train.shape)\n",
    "print(X_test.shape)\n",
    "\n",
    "NUM_CLASSES = 10"
   ]
  },
  {
   "cell_type": "code",
   "execution_count": 4,
   "metadata": {},
   "outputs": [
    {
     "name": "stdout",
     "output_type": "stream",
     "text": [
      "235/235 [==============================] - 97s 413ms/step - loss: 0.3100 - accuracy: 0.9041 - val_loss: 0.0741 - val_accuracy: 0.9764\n",
      "Test loss: 0.07409970462322235\n",
      "Test accuracy: 0.9764000177383423\n"
     ]
    }
   ],
   "source": [
    "# CNN model to classify MNIST dataset\n",
    "y_tr = tf.keras.utils.to_categorical(y_train, NUM_CLASSES)\n",
    "y_t = tf.keras.utils.to_categorical(y_test, NUM_CLASSES)\n",
    "\n",
    "x_train = X_train.reshape(X_train.shape[0], 28, 28, 1)\n",
    "x_test = X_test.reshape(X_test.shape[0], 28, 28, 1)\n",
    "\n",
    "\n",
    "classifier = CNNClassifier(NUM_CLASSES,(28,28,1))\n",
    "score = classifier.train(x_train,y_tr,256,1,x_test,y_t)\n",
    "print('Test loss:', score[0])\n",
    "print('Test accuracy:', score[1])\n",
    "r_0 = [score[0],score[1]]"
   ]
  },
  {
   "cell_type": "markdown",
   "metadata": {},
   "source": [
    "## Using SimpGan generate synthetic images "
   ]
  },
  {
   "cell_type": "code",
   "execution_count": 5,
   "metadata": {},
   "outputs": [
    {
     "name": "stdout",
     "output_type": "stream",
     "text": [
      "0\n",
      "Epochs: 1\n",
      "Batch size: 256\n",
      "Batches per epoch: 23.13671875\n",
      "epoch = 1/1, d_loss=0.549, g_loss=0.753                                                                                                                    \n",
      "1\n",
      "Epochs: 1\n",
      "Batch size: 256\n",
      "Batches per epoch: 26.3359375\n",
      "epoch = 1/1, d_loss=0.566, g_loss=0.723                                                                                                                    \n",
      "2\n",
      "Epochs: 1\n",
      "Batch size: 256\n",
      "Batches per epoch: 23.2734375\n",
      "epoch = 1/1, d_loss=0.551, g_loss=0.748                                                                                                                    \n",
      "3\n",
      "Epochs: 1\n",
      "Batch size: 256\n",
      "Batches per epoch: 23.94921875\n",
      "epoch = 1/1, d_loss=0.554, g_loss=0.741                                                                                                                    \n",
      "4\n",
      "Epochs: 1\n",
      "Batch size: 256\n",
      "Batches per epoch: 22.8203125\n",
      "epoch = 1/1, d_loss=0.562, g_loss=0.731                                                                                                                    \n",
      "5\n",
      "Epochs: 1\n",
      "Batch size: 256\n",
      "Batches per epoch: 21.17578125\n",
      "epoch = 1/1, d_loss=0.557, g_loss=0.729                                                                                                                    \n",
      "6\n",
      "Epochs: 1\n",
      "Batch size: 256\n",
      "Batches per epoch: 23.1171875\n",
      "epoch = 1/1, d_loss=0.550, g_loss=0.746                                                                                                                    \n",
      "7\n",
      "Epochs: 1\n",
      "Batch size: 256\n",
      "Batches per epoch: 24.47265625\n",
      "epoch = 1/1, d_loss=0.546, g_loss=0.733                                                                                                                    \n",
      "8\n",
      "Epochs: 1\n",
      "Batch size: 256\n",
      "Batches per epoch: 22.85546875\n",
      "epoch = 1/1, d_loss=0.552, g_loss=0.745                                                                                                                    \n",
      "9\n",
      "Epochs: 1\n",
      "Batch size: 256\n",
      "Batches per epoch: 23.23828125\n",
      "epoch = 1/1, d_loss=0.560, g_loss=0.730                                                                                                                    \n"
     ]
    }
   ],
   "source": [
    "#generate simple synthetic images of same size as X_train with same balance\n",
    "X_c = []\n",
    "y_c = []\n",
    "\n",
    "for i in range(NUM_CLASSES):\n",
    "    print(i)\n",
    "    In = np.where(y_train==i)\n",
    "    X = X_train[In]\n",
    "    tf.keras.backend.clear_session()\n",
    "    optim = Adam(lr=0.0002, beta_1=0.5)\n",
    "    gen = pg.MNIST_Generator(optim=optim)\n",
    "    dis = pg.MNIST_Discriminator(optim=optim)\n",
    "    \n",
    "    #learn generator per digit \n",
    "    (generator, _, _, _) = pg.SimpGAN(X, generator = gen, discriminator = dis, \n",
    "                                      optim = optim, \n",
    "                                      epochs = 1, batchSize = 256)\n",
    "    \n",
    "    noise = np.random.normal(0, 1, size=[len(X), 100])\n",
    "    X_c += [generator.predict(noise)]\n",
    "    y_c += [i]*len(X)\n",
    "    \n",
    "X_c = np.concatenate(X_c)    \n",
    "y_c = np.array(y_c)\n",
    "\n",
    "\n",
    "## Shuffle labels around\n",
    "arr = np.arange(len(X_c))\n",
    "np.random.shuffle(arr)\n",
    "X_c = X_c[arr]\n",
    "y_c = y_c[arr]"
   ]
  },
  {
   "cell_type": "code",
   "execution_count": 6,
   "metadata": {},
   "outputs": [
    {
     "name": "stdout",
     "output_type": "stream",
     "text": [
      "235/235 [==============================] - 100s 424ms/step - loss: 0.1483 - accuracy: 0.9529 - val_loss: 5.7761 - val_accuracy: 0.7131\n",
      "Test loss: 5.776065826416016\n",
      "Test accuracy: 0.713100016117096\n"
     ]
    }
   ],
   "source": [
    "# CNN model to classify SimpGan generated images\n",
    "y_tr = tf.keras.utils.to_categorical(y_c, NUM_CLASSES)\n",
    "y_t = tf.keras.utils.to_categorical(y_test, NUM_CLASSES)\n",
    "\n",
    "\n",
    "\n",
    "x_train = X_c.reshape(X_c.shape[0], 28, 28, 1)\n",
    "x_test = X_test.reshape(X_test.shape[0], 28, 28, 1)\n",
    "\n",
    "classifier = CNNClassifier(NUM_CLASSES,(28,28,1))\n",
    "score = classifier.train(x_train,y_tr,256,1,x_test,y_t)\n",
    "print('Test loss:', score[0])\n",
    "print('Test accuracy:', score[1])\n",
    "\n",
    "r_1 = [score[0],score[1]]"
   ]
  },
  {
   "cell_type": "markdown",
   "metadata": {},
   "source": [
    "## Using privGan generate synthetic images"
   ]
  },
  {
   "cell_type": "code",
   "execution_count": 7,
   "metadata": {},
   "outputs": [
    {
     "name": "stdout",
     "output_type": "stream",
     "text": [
      "0\n",
      "24/24 [==============================] - 2s 91ms/step - loss: 0.7663 - val_loss: 0.6843\n",
      "dp-Accuracy: 0.5537734256289043\n",
      "Epochs: 1\n",
      "Batch size: 256\n",
      "Batches per epoch: 11\n",
      "epoch = 0/1, batch = 10/11                                                                                                     \n",
      "dLosses = [0.44798338 0.43747817]\n",
      "dpLosses = 0.0\n",
      "gLosses = 2.780775850469416\n",
      "dp-Accuracy: 0.0\n",
      "1\n",
      "27/27 [==============================] - 3s 95ms/step - loss: 0.7586 - val_loss: 0.6925\n",
      "dp-Accuracy: 0.519430436072382\n",
      "Epochs: 1\n",
      "Batch size: 256\n",
      "Batches per epoch: 13\n",
      "epoch = 0/1, batch = 12/13                                                                                                     \n",
      "dLosses = [0.45303324 0.45078788]\n",
      "dpLosses = 0.0\n",
      "gLosses = 2.801565463726337\n",
      "dp-Accuracy: 0.0\n",
      "2\n",
      "24/24 [==============================] - 2s 90ms/step - loss: 0.7784 - val_loss: 0.7062\n",
      "dp-Accuracy: 0.501007049345418\n",
      "Epochs: 1\n",
      "Batch size: 256\n",
      "Batches per epoch: 11\n",
      "epoch = 0/1, batch = 10/11                                                                                                     \n",
      "dLosses = [0.46052673 0.43441514]\n",
      "dpLosses = 0.0\n",
      "gLosses = 2.7825122529810127\n",
      "dp-Accuracy: 0.0\n",
      "3\n",
      "24/24 [==============================] - 2s 103ms/step - loss: 0.7762 - val_loss: 0.6815\n",
      "dp-Accuracy: 0.5773935736421465\n",
      "Epochs: 1\n",
      "Batch size: 256\n",
      "Batches per epoch: 11\n",
      "epoch = 0/1, batch = 10/11                                                                                                     \n",
      "dLosses = [0.4565365  0.43634495]\n",
      "dpLosses = 0.0\n",
      "gLosses = 2.8145016106692227\n",
      "dp-Accuracy: 0.0\n",
      "4\n",
      "23/23 [==============================] - 2s 101ms/step - loss: 0.7616 - val_loss: 0.6856\n",
      "dp-Accuracy: 0.5491270112975009\n",
      "Epochs: 1\n",
      "Batch size: 256\n",
      "Batches per epoch: 11\n",
      "epoch = 0/1, batch = 10/11                                                                                                     \n",
      "dLosses = [0.46001426 0.45068038]\n",
      "dpLosses = 0.0\n",
      "gLosses = 2.7603890028866855\n",
      "dp-Accuracy: 0.0\n",
      "5\n",
      "22/22 [==============================] - 2s 88ms/step - loss: 0.7496 - val_loss: 0.6829\n",
      "dp-Accuracy: 0.5644714997232982\n",
      "Epochs: 1\n",
      "Batch size: 256\n",
      "Batches per epoch: 10\n",
      "epoch = 0/1, batch = 9/10                                                                                                     \n",
      "dLosses = [0.47150389 0.46797331]\n",
      "dpLosses = 0.0\n",
      "gLosses = 2.7136204719543455\n",
      "dp-Accuracy: 0.0\n",
      "6\n",
      "24/24 [==============================] - 2s 97ms/step - loss: 0.7664 - val_loss: 0.6851\n",
      "dp-Accuracy: 0.5471443055086178\n",
      "Epochs: 1\n",
      "Batch size: 256\n",
      "Batches per epoch: 11\n",
      "epoch = 0/1, batch = 10/11                                                                                                     \n",
      "dLosses = [0.45043655 0.44046837]\n",
      "dpLosses = 0.0\n",
      "gLosses = 2.819689620624889\n",
      "dp-Accuracy: 0.0\n",
      "7\n",
      "25/25 [==============================] - 2s 89ms/step - loss: 0.7566 - val_loss: 0.6924\n",
      "dp-Accuracy: 0.5198723064644852\n",
      "Epochs: 1\n",
      "Batch size: 256\n",
      "Batches per epoch: 12\n",
      "epoch = 0/1, batch = 11/12                                                                                                     \n",
      "dLosses = [0.43447817 0.44149873]\n",
      "dpLosses = 0.0\n",
      "gLosses = 2.814864218235016\n",
      "dp-Accuracy: 0.0\n",
      "8\n",
      "23/23 [==============================] - 2s 96ms/step - loss: 0.7466 - val_loss: 0.6817\n",
      "dp-Accuracy: 0.575286275850282\n",
      "Epochs: 1\n",
      "Batch size: 256\n",
      "Batches per epoch: 11\n",
      "epoch = 0/1, batch = 10/11                                                                                                     \n",
      "dLosses = [0.44645918 0.44097685]\n",
      "dpLosses = 0.0\n",
      "gLosses = 2.7588589408180932\n",
      "dp-Accuracy: 0.0\n",
      "9\n",
      "24/24 [==============================] - 2s 92ms/step - loss: 0.7858 - val_loss: 0.6872\n",
      "dp-Accuracy: 0.5434526811228778\n",
      "Epochs: 1\n",
      "Batch size: 256\n",
      "Batches per epoch: 11\n",
      "epoch = 0/1, batch = 10/11                                                                                                     \n",
      "dLosses = [0.44989129 0.4480984 ]\n",
      "dpLosses = 0.0\n",
      "gLosses = 2.779847665266557\n",
      "dp-Accuracy: 0.0\n"
     ]
    }
   ],
   "source": [
    "#generate simple synthetic images of same size as X_train with same balance with privGan\n",
    "X_c2 = []\n",
    "y_c2 = []\n",
    "\n",
    "for i in range(NUM_CLASSES):\n",
    "    print(i)\n",
    "    In = np.where(y_train==i)\n",
    "    X = X_train[In]\n",
    "    tf.keras.backend.clear_session()\n",
    "    optim = Adam(lr=0.0002, beta_1=0.5)\n",
    "    generators = [mnist_gan.MNIST_Generator(optim = Adam(lr=0.0002, beta_1=0.5)),\n",
    "                  mnist_gan.MNIST_Generator(optim = Adam(lr=0.0002, beta_1=0.5))]\n",
    "    discriminators = [mnist_gan.MNIST_Discriminator(optim = Adam(lr=0.0002, beta_1=0.5))\n",
    "                      ,mnist_gan.MNIST_Discriminator(optim = Adam(lr=0.0002, beta_1=0.5))]\n",
    "    pDisc = mnist_gan.MNIST_DiscriminatorPrivate(OutSize = 2, \n",
    "                                          optim = Adam(lr=0.0002, beta_1=0.5))\n",
    "    \n",
    "    (generators, _, _, _, _, _)= pg.privGAN(X, epochs = 1, \n",
    "                                                                               disc_epochs=1,\n",
    "                                                                               batchSize=256,\n",
    "                                                                               generators = generators, \n",
    "                                                                               discriminators = discriminators,\n",
    "                                                                               pDisc = pDisc,\n",
    "                                                                               optim = optim,\n",
    "                                                                               privacy_ratio = 1.0)    \n",
    "    \n",
    "    noise1 = np.random.normal(0, 1, size=[len(X)//2, 100])\n",
    "    noise2 = np.random.normal(0, 1, size=[len(X)//2, 100])\n",
    "    X_c2 += [generators[0].predict(noise1)]\n",
    "    X_c2 += [generators[1].predict(noise2)]\n",
    "    y_c2 += [i]*(len(noise1) + len(noise2))\n",
    "    \n",
    "X_c2 = np.concatenate(X_c2)    \n",
    "y_c2 = np.array(y_c2)"
   ]
  },
  {
   "cell_type": "code",
   "execution_count": 8,
   "metadata": {},
   "outputs": [],
   "source": [
    "## Shuffle labels around\n",
    "arr = np.arange(len(X_c2))\n",
    "np.random.shuffle(arr)\n",
    "X_c2 = X_c2[arr]\n",
    "y_c2 = y_c2[arr]"
   ]
  },
  {
   "cell_type": "code",
   "execution_count": 9,
   "metadata": {},
   "outputs": [
    {
     "name": "stdout",
     "output_type": "stream",
     "text": [
      "235/235 [==============================] - 99s 420ms/step - loss: 0.2608 - accuracy: 0.9241 - val_loss: 25.0063 - val_accuracy: 0.3319\n",
      "Test loss: 25.006332397460938\n",
      "Test accuracy: 0.3319000005722046\n"
     ]
    }
   ],
   "source": [
    "#train CNN model for images created by privGan\n",
    "y_tr = tf.keras.utils.to_categorical(y_c2, NUM_CLASSES)\n",
    "y_t = tf.keras.utils.to_categorical(y_test, NUM_CLASSES)\n",
    "\n",
    "x_train = X_c2.reshape(X_c2.shape[0], 28, 28, 1)\n",
    "x_test = X_test.reshape(X_test.shape[0], 28, 28, 1)\n",
    "\n",
    "\n",
    "\n",
    "classifier = CNNClassifier(NUM_CLASSES,(28,28,1))\n",
    "score = classifier.train(x_train,y_tr,256,1,x_test,y_t)\n",
    "print('Test loss:', score[0])\n",
    "print('Test accuracy:', score[1])\n",
    "r_2 = [score[0],score[1]]\n"
   ]
  },
  {
   "cell_type": "code",
   "execution_count": 10,
   "metadata": {},
   "outputs": [
    {
     "data": {
      "text/plain": [
       "Text(0, 0.5, 'Accuracy')"
      ]
     },
     "execution_count": 10,
     "metadata": {},
     "output_type": "execute_result"
    },
    {
     "data": {
      "image/png": "[encoded data removed]",
      "text/plain": [
       "<Figure size 432x288 with 1 Axes>"
      ]
     },
     "metadata": {
      "needs_background": "light"
     },
     "output_type": "display_data"
    }
   ],
   "source": [
    "plt.bar([0,1,2],[r_0[1],r_1[1],r_2[1]])\n",
    "plt.xticks([0,1,2],['Real','GAN','privGAN (1.0)'], rotation=45)\n",
    "plt.ylabel('Accuracy')"
   ]
  }
 ],
 "metadata": {
  "kernelspec": {
   "display_name": "Python 3",
   "language": "python",
   "name": "python3"
  },
  "language_info": {
   "codemirror_mode": {
    "name": "ipython",
    "version": 3
   },
   "file_extension": ".py",
   "mimetype": "text/x-python",
   "name": "python",
   "nbconvert_exporter": "python",
   "pygments_lexer": "ipython3",
   "version": "3.8.3"
  }
 },
 "nbformat": 4,
 "nbformat_minor": 4
}

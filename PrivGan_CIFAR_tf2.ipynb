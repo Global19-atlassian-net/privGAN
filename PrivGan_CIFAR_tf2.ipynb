{
 "cells": [
  {
   "cell_type": "code",
   "execution_count": null,
   "metadata": {},
   "outputs": [],
   "source": [
    "# Copyright (c) Microsoft Corporation. All rights reserved. \n",
    "# Licensed under the MIT License\n",
    "\n",
    "import os\n",
    "import numpy as np\n",
    "import pandas as pd\n",
    "import pandas as pd\n",
    "from tqdm import tqdm\n",
    "import matplotlib.pyplot as plt\n",
    "import tensorflow as tf\n",
    "from tensorflow.keras import Input\n",
    "from tensorflow.keras import Model, Sequential\n",
    "from tensorflow.keras.layers import Reshape, Dense, Dropout, Flatten, LeakyReLU, Conv2D, MaxPooling2D, ZeroPadding2D, Conv2DTranspose, UpSampling2D, BatchNormalization\n",
    "from tensorflow.keras.optimizers import Adam\n",
    "from tensorflow.keras.datasets import cifar10\n",
    "from tensorflow.keras import initializers\n",
    "from privacygan import privacy_gan as pg\n",
    "from privacygan.cifar import cifar_gan\n",
    "import warnings\n",
    "\n",
    "print(tf.__version__)"
   ]
  },
  {
   "cell_type": "code",
   "execution_count": null,
   "metadata": {},
   "outputs": [],
   "source": [
    "# Load CIFAR-10 data\n",
    "(X_train, y_train), (X_test, y_test) = cifar10.load_data()\n",
    "\n",
    "X_all = np.concatenate((X_train,X_test))\n",
    "\n",
    "(n, d1, d2, d3) = X_all.shape\n",
    "\n",
    "if d3 !=3:\n",
    "    X_all = np.moveaxis(X_all, 1, 3)\n",
    "    \n",
    "X_all = np.float32(X_all)\n",
    "X_all = (X_all / 255 - 0.5) * 2\n",
    "X_all = np.clip(X_all, -1, 1)\n",
    "\n",
    "#Generate training test split\n",
    "frac = 0.1 \n",
    "n = int(frac*len(X_all))\n",
    "l = np.array(range(len(X_all)))\n",
    "l = np.random.choice(l,len(l),replace = False)\n",
    "X = X_all[l[:n]]\n",
    "X_comp = X_all[l[n:]]\n",
    "\n",
    "print(X.shape)\n",
    "print(X_comp.shape)"
   ]
  },
  {
   "cell_type": "code",
   "execution_count": null,
   "metadata": {},
   "outputs": [],
   "source": [
    "#Specify models \n",
    "generator = cifar_gan.CIFAR_Generator()\n",
    "discriminator = cifar_gan.CIFAR_Discriminator()\n",
    "generators = [cifar_gan.CIFAR_Generator(),cifar_gan.CIFAR_Generator()]\n",
    "discriminators = [cifar_gan.CIFAR_Discriminator(),cifar_gan.CIFAR_Discriminator()]\n",
    "pDisc = cifar_gan.CIFAR_DiscriminatorPrivate(OutSize = 2)"
   ]
  },
  {
   "cell_type": "code",
   "execution_count": null,
   "metadata": {},
   "outputs": [],
   "source": [
    "(generator, discriminator, dLosses, gLosses) = pg.SimpGAN(X, epochs = 1, \n",
    "                                                          generator = generator, \n",
    "                                                          discriminator = discriminator,\n",
    "                                                          batchSize=256)"
   ]
  },
  {
   "cell_type": "code",
   "execution_count": null,
   "metadata": {},
   "outputs": [],
   "source": [
    "#perform white box attack\n",
    "Acc = pg.WBattack(X,X_comp, discriminator)"
   ]
  },
  {
   "cell_type": "code",
   "execution_count": null,
   "metadata": {},
   "outputs": [],
   "source": [
    "#plot distribution of discriminator scores of training and test set\n",
    "plt.hist(discriminator.predict(X)[:,0],color = 'r', alpha = 0.5, label = 'train', density = True, bins = 50)\n",
    "plt.hist(discriminator.predict(X_comp)[:,0],color = 'b', alpha = 0.5, label = 'test', density = True, bins = 50)\n",
    "plt.xlabel('Discriminator probability')\n",
    "plt.ylabel('Normed frequency')\n",
    "plt.title('GAN')\n",
    "plt.legend()"
   ]
  },
  {
   "cell_type": "code",
   "execution_count": null,
   "metadata": {},
   "outputs": [],
   "source": [
    "noise = np.random.normal(0, 1, size=[X.shape[0], 100])\n",
    "generatedImages = generator.predict(noise)\n",
    "temp = generatedImages[:25].reshape(25, 32, 32, 3)\n",
    "plt.figure(figsize=(5, 5))\n",
    "for i in range(temp.shape[0]):\n",
    "    plt.subplot(5,5, i+1)\n",
    "    plt.imshow(temp[i], interpolation='nearest', cmap='gray_r')\n",
    "    plt.axis('off')\n",
    "plt.tight_layout()"
   ]
  },
  {
   "cell_type": "code",
   "execution_count": null,
   "metadata": {},
   "outputs": [],
   "source": [
    "tf.keras.backend.clear_session()\n",
    "optim = Adam(lr=0.0002, beta_1=0.5)\n",
    "generator = cifar_gan.CIFAR_Generator(optim = Adam(lr=0.0002, beta_1=0.5))\n",
    "discriminator = cifar_gan.CIFAR_Discriminator(optim = Adam(lr=0.0002, beta_1=0.5))\n",
    "generators = [cifar_gan.CIFAR_Generator(optim = Adam(lr=0.0002, beta_1=0.5)),\n",
    "              cifar_gan.CIFAR_Generator(optim = Adam(lr=0.0002, beta_1=0.5))]\n",
    "discriminators = [cifar_gan.CIFAR_Discriminator(optim = Adam(lr=0.0002, beta_1=0.5)),\n",
    "                  cifar_gan.CIFAR_Discriminator(optim = Adam(lr=0.0002, beta_1=0.5))]\n",
    "pDisc = cifar_gan.CIFAR_DiscriminatorPrivate(OutSize = 2,\n",
    "                                     optim = Adam(lr=0.0002, beta_1=0.5))\n",
    "(generators, discriminators, _, dLosses, dpLosses, gLosses)= pg.privGAN(X, epochs = 1,\n",
    "                                                                           disc_epochs=1,\n",
    "                                                                           generators = generators, \n",
    "                                                                           discriminators = discriminators,\n",
    "                                                                           pDisc = pDisc,\n",
    "                                                                           optim = optim,\n",
    "                                                                           privacy_ratio=1.0,\n",
    "                                                                           batchSize=256)"
   ]
  },
  {
   "cell_type": "code",
   "execution_count": null,
   "metadata": {},
   "outputs": [],
   "source": [
    "#perform white box attack\n",
    "pg.WBattack_priv(X,X_comp, discriminators)"
   ]
  },
  {
   "cell_type": "code",
   "execution_count": null,
   "metadata": {},
   "outputs": [],
   "source": [
    "noise = np.random.normal(0, 1, size=[X.shape[0], 100])\n",
    "generatedImages = generators[0].predict(noise)\n",
    "temp = generatedImages[:25].reshape(25, 32, 32, 3)\n",
    "plt.figure(figsize=(5, 5))\n",
    "for i in range(temp.shape[0]):\n",
    "    plt.subplot(5,5, i+1)\n",
    "    plt.imshow(temp[i], interpolation='nearest', cmap='gray_r')\n",
    "    plt.axis('off')\n",
    "plt.tight_layout()"
   ]
  },
  {
   "cell_type": "code",
   "execution_count": null,
   "metadata": {},
   "outputs": [],
   "source": [
    "plt.hist(discriminators[0].predict(X)[:,0],color = 'r', alpha = 0.5, label = 'train', density = True, bins = 50)\n",
    "plt.hist(discriminators[0].predict(X_comp)[:,0],color = 'b', alpha = 0.5, label = 'test', density = True, bins = 50)\n",
    "plt.xlabel('Discriminator probability')\n",
    "plt.ylabel('Normed frequency')\n",
    "plt.title('privGAN (1.0)')\n",
    "plt.legend()"
   ]
  },
  {
   "cell_type": "code",
   "execution_count": null,
   "metadata": {},
   "outputs": [],
   "source": [
    "pg.WBattack_priv(X,X_comp, discriminators)"
   ]
  },
  {
   "cell_type": "code",
   "execution_count": null,
   "metadata": {},
   "outputs": [],
   "source": []
  }
 ],
 "metadata": {
  "kernelspec": {
   "display_name": "Python 3",
   "language": "python",
   "name": "python3"
  },
  "language_info": {
   "codemirror_mode": {
    "name": "ipython",
    "version": 3
   },
   "file_extension": ".py",
   "mimetype": "text/x-python",
   "name": "python",
   "nbconvert_exporter": "python",
   "pygments_lexer": "ipython3",
   "version": "3.8.3"
  }
 },
 "nbformat": 4,
 "nbformat_minor": 4
}
